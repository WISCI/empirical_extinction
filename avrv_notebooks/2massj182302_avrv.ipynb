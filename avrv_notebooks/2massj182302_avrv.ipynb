{
 "cells": [
  {
   "cell_type": "code",
   "execution_count": 1,
   "id": "42b3cd42",
   "metadata": {},
   "outputs": [],
   "source": [
    "import glob\n",
    "\n",
    "import numpy as np\n",
    "import scipy.optimize as op\n",
    "\n",
    "import matplotlib.pyplot as plt\n",
    "\n",
    "import astropy.units as u\n",
    "\n",
    "import emcee\n",
    "\n",
    "from measure_extinction.stardata import StarData\n",
    "from measure_extinction.modeldata import ModelData\n",
    "from measure_extinction.utils.fit_model import FitInfo\n",
    "\n",
    "from measure_extinction.utils.fit_model import get_best_fit_params, get_percentile_params\n",
    "\n",
    "from helpers import (plot_data_model, plot_data_model, comp_ext, plot_ext, \n",
    "                     get_fit_params, get_full_params, get_fit_params_g23only, get_full_params_g23only)          "
   ]
  },
  {
   "cell_type": "markdown",
   "id": "3caa695b",
   "metadata": {},
   "source": [
    "## Info about the specific star and data to fit"
   ]
  },
  {
   "cell_type": "markdown",
   "id": "8f70bc32",
   "metadata": {},
   "source": [
    "Specify the location of the model and observed data"
   ]
  },
  {
   "cell_type": "code",
   "execution_count": 2,
   "id": "209117e4",
   "metadata": {},
   "outputs": [],
   "source": [
    "data_file_path = \"/home/kgordon/Python/extstar_data/DAT_files/\"\n",
    "model_file_path = \"/home/kgordon/Python/extstar_data/\""
   ]
  },
  {
   "cell_type": "markdown",
   "id": "57beb89f",
   "metadata": {},
   "source": [
    "Define star specific parameters"
   ]
  },
  {
   "cell_type": "code",
   "execution_count": 3,
   "id": "4b7882b1",
   "metadata": {},
   "outputs": [
    {
     "name": "stdout",
     "output_type": "stream",
     "text": [
      "4.521138083704036 0.026194034729844162\n"
     ]
    }
   ],
   "source": [
    "starname = \"2massj182302\"\n",
    "fstarname = f\"{starname}.dat\"\n",
    "velocity = 0.0   # assumption\n",
    "relband = 0.55 * u.micron  # needed for dust extinction\n",
    "\n",
    "# sptype and Teff, logg, from from Wei, C et al. (master thesis)\n",
    "sptype = \"O9Iaf\"\n",
    "teff = 33200\n",
    "teff_unc = 2000.0\n",
    "logt = np.log10(teff)\n",
    "logt_unc = 0.5 * (np.log10(teff + teff_unc) - np.log10(teff - teff_unc))\n",
    "print(logt, logt_unc)\n",
    "logg = 3.3\n",
    "logg_unc = 0.1\n",
    "\n",
    "# parameter names\n",
    "pnames = [\"logT\",\"logg\", \"logZ\", \"Av\",\"Rv\",\"C2\",\"C3\",\"C4\",\"x0\",\"gamma\",\"HI_gal\",\"HI_mw\"]\n",
    "# logZ and HI_mw not fit as sources in MW so HI_gal = HI_MW\n",
    "pnames_fit = [\"logT\",\"logg\", \"Av\",\"Rv\"]\n",
    "fitparamsfunc = get_fit_params_g23only\n",
    "fullparamsfunc = get_full_params_g23only\n",
    "fit_range = \"g23\"\n",
    "\n",
    "# initial starting position\n",
    "params = [logt, logg, 0.0, 5.0, 3.1, 0.7, 3.23, 0.41, 4.59, 0.95, 20.5, 17.0]\n",
    "\n",
    "# add Gaussian priors based on prior knowledge\n",
    "#ppriors = None\n",
    "ppriors = {}\n",
    "ppriors[\"logT\"] = (logt, logt_unc)\n",
    "ppriors[\"logg\"] = (logg, logg_unc)"
   ]
  },
  {
   "cell_type": "markdown",
   "id": "d96814fe",
   "metadata": {},
   "source": [
    "Give the fitting parameters"
   ]
  },
  {
   "cell_type": "code",
   "execution_count": 4,
   "id": "671da903",
   "metadata": {},
   "outputs": [],
   "source": [
    "# emcee\n",
    "nsteps = 5000"
   ]
  },
  {
   "cell_type": "markdown",
   "id": "78b14321",
   "metadata": {},
   "source": [
    "Read in the star data"
   ]
  },
  {
   "cell_type": "code",
   "execution_count": 5,
   "id": "9fee49ab",
   "metadata": {
    "scrolled": false
   },
   "outputs": [
    {
     "name": "stdout",
     "output_type": "stream",
     "text": [
      "dict_keys(['BAND', 'STIS_Opt'])\n"
     ]
    }
   ],
   "source": [
    "# get the observed reddened star data\n",
    "reddened_star = StarData(fstarname, path=f\"{data_file_path}\")\n",
    "band_names = reddened_star.data[\"BAND\"].get_band_names()\n",
    "for ckey in list(reddened_star.data.keys()):\n",
    "    if ckey not in [\"BAND\", \"STIS_Opt\"]:\n",
    "        del reddened_star.data[ckey]\n",
    "    else:\n",
    "        # add in 1% unc\n",
    "        gvals = reddened_star.data[ckey].npts > 0\n",
    "        reddened_star.data[ckey].uncs[gvals] += 0.01 * reddened_star.data[ckey].fluxes[gvals]\n",
    "data_names = reddened_star.data.keys()\n",
    "print(data_names)"
   ]
  },
  {
   "cell_type": "markdown",
   "id": "fdcbc50f",
   "metadata": {},
   "source": [
    "Create the weight arrays based on the observed uncertainties and exclude regions that have known lines not fit by the models (ISM gas, etc.)."
   ]
  },
  {
   "cell_type": "code",
   "execution_count": 6,
   "id": "2c83f31c",
   "metadata": {},
   "outputs": [],
   "source": [
    "# cropping info for weights\n",
    "#  bad regions are defined as those were we know the models do not work\n",
    "#  or the data is bad\n",
    "ex_regions = [\n",
    "    [8.23 - 0.1, 8.23 + 0.1],  # geocoronal line\n",
    "    [8.7, 10.0],  # bad data from STIS\n",
    "    [3.55, 3.6],\n",
    "    [3.80, 3.90],\n",
    "    [4.15, 4.3],\n",
    "    [6.4, 6.6],\n",
    "    [7.1, 7.3],\n",
    "    [7.45, 7.55],\n",
    "    [7.65, 7.75],\n",
    "    [7.9, 7.95],\n",
    "    [8.05, 8.1],\n",
    "] / u.micron\n",
    "\n",
    "weights = {}\n",
    "for cspec in data_names:\n",
    "    weights[cspec] = np.full(len(reddened_star.data[cspec].fluxes), 0.0)\n",
    "    gvals = reddened_star.data[cspec].npts > 0\n",
    "\n",
    "    weights[cspec][gvals] = 1.0 / reddened_star.data[cspec].uncs[gvals].value\n",
    "\n",
    "    x = 1.0 / reddened_star.data[cspec].waves\n",
    "    for cexreg in ex_regions:\n",
    "        weights[cspec][np.logical_and(x >= cexreg[0], x <= cexreg[1])] = 0.0"
   ]
  },
  {
   "cell_type": "markdown",
   "id": "5d47d4d3",
   "metadata": {},
   "source": [
    "Get the model data"
   ]
  },
  {
   "cell_type": "code",
   "execution_count": 7,
   "id": "70cdc247",
   "metadata": {},
   "outputs": [],
   "source": [
    "tlusty_models_fullpath = glob.glob(f\"{model_file_path}/Models/tlusty_*v10.dat\")\n",
    "tlusty_models = [\n",
    "    tfile[tfile.rfind(\"/\") + 1 : len(tfile)] for tfile in tlusty_models_fullpath\n",
    "]\n",
    "\n",
    "# get the models with just the reddened star band data and spectra\n",
    "modinfo = ModelData(\n",
    "    tlusty_models,\n",
    "    path=f\"{model_file_path}/Models/\",\n",
    "    band_names=band_names,\n",
    "    spectra_names=data_names,\n",
    ")"
   ]
  },
  {
   "cell_type": "markdown",
   "id": "f975ea60",
   "metadata": {},
   "source": [
    "Setup the fit parameters"
   ]
  },
  {
   "cell_type": "code",
   "execution_count": 8,
   "id": "d8d770a4",
   "metadata": {},
   "outputs": [],
   "source": [
    "# not all these parameters are being fit\n",
    "#   not fitting for met, log(HI) MW foreground\n",
    "plimits = [\n",
    "        [modinfo.temps_min, modinfo.temps_max],  # log(Teff)\n",
    "        [modinfo.gravs_min, modinfo.gravs_max],  # log(g)\n",
    "        [0.0, 0.0], # met\n",
    "        [0.0, 10.0],   # Av\n",
    "        [2.31, 5.59],   # Rv\n",
    "        [-0.1, 5.0],  # C2\n",
    "        [-1.0, 6.0],   # C3\n",
    "        [-0.5, 1.5],   # C4\n",
    "        [4.5, 4.9],   # xo\n",
    "        [0.6, 1.5],   # gamma\n",
    "        [18.0, 24.0], # log(HI) internal to galaxy\n",
    "        [17.0, 22.0], # log(HI) MW foreground\n",
    "    ]"
   ]
  },
  {
   "cell_type": "markdown",
   "id": "6bae6f15",
   "metadata": {},
   "source": [
    "Package the fit info needed.  FitInfo class defines the likelihood functions as well."
   ]
  },
  {
   "cell_type": "code",
   "execution_count": 9,
   "id": "f6aa29d7",
   "metadata": {},
   "outputs": [],
   "source": [
    "fitinfo = FitInfo(\n",
    "    pnames,\n",
    "    plimits,\n",
    "    weights,\n",
    "    parameter_priors=ppriors,\n",
    "    stellar_velocity=velocity,\n",
    ")"
   ]
  },
  {
   "cell_type": "code",
   "execution_count": 10,
   "id": "5ff88bed",
   "metadata": {},
   "outputs": [
    {
     "name": "stdout",
     "output_type": "stream",
     "text": [
      "-522532.76939488354\n",
      "0.0\n",
      "-522532.76939488354\n"
     ]
    }
   ],
   "source": [
    "# check that the initial starting position returns a valid value of lnprob and is within the parameter bounds\n",
    "fitinfo.check_param_limits(params)\n",
    "print(fitinfo.lnlike(params, reddened_star, modinfo))\n",
    "print(fitinfo.lnprior(params))\n",
    "print(fitinfo.lnprob(params, reddened_star, modinfo, fitinfo))"
   ]
  },
  {
   "cell_type": "markdown",
   "id": "cc3b9848",
   "metadata": {},
   "source": [
    "## Do the fitting to find the best fit (using a minimizer)"
   ]
  },
  {
   "cell_type": "code",
   "execution_count": 11,
   "id": "7932407d",
   "metadata": {},
   "outputs": [
    {
     "name": "stdout",
     "output_type": "stream",
     "text": [
      "Optimization terminated successfully.\n"
     ]
    }
   ],
   "source": [
    "# simple function to turn the log(likelihood) into the chisqr\n",
    "#  requied as op.minimize function searchs for the minimum chisqr (not max likelihood like MCMC algorithms)\n",
    "def nll(params, *args):\n",
    "    full_params = fullparamsfunc(params)\n",
    "    return -fitinfo.lnprob(full_params, *args, fit_range=fit_range)\n",
    "\n",
    "init_fit_params = fitparamsfunc(params)\n",
    "\n",
    "# run the fit\n",
    "result = op.minimize(\n",
    "    nll, init_fit_params, method=\"Nelder-Mead\", options={\"maxiter\": 10000}, \n",
    "    args=(reddened_star, modinfo, fitinfo)\n",
    ")\n",
    "\n",
    "# check the fit output\n",
    "print(result[\"message\"])"
   ]
  },
  {
   "cell_type": "code",
   "execution_count": 12,
   "id": "e510ce95",
   "metadata": {},
   "outputs": [
    {
     "name": "stdout",
     "output_type": "stream",
     "text": [
      "4.709564868375017 # logT\n",
      "3.2494929784847644 # logg\n",
      "5.744251244241833 # Av\n",
      "3.1378651300093847 # Rv\n"
     ]
    }
   ],
   "source": [
    "# print results\n",
    "params_best = result[\"x\"]\n",
    "\n",
    "# print the best fit\n",
    "for k, val in enumerate(params_best):\n",
    "    print(f\"{val} # {pnames_fit[k]}\")"
   ]
  },
  {
   "cell_type": "markdown",
   "id": "72e47e0a",
   "metadata": {},
   "source": [
    "Plot the spectra with the best fit model"
   ]
  },
  {
   "cell_type": "code",
   "execution_count": 13,
   "id": "16d1ca7e",
   "metadata": {},
   "outputs": [
    {
     "data": {
      "image/png": "[encoded data removed]",
      "text/plain": [
       "<Figure size 936x720 with 2 Axes>"
      ]
     },
     "metadata": {
      "needs_background": "light"
     },
     "output_type": "display_data"
    }
   ],
   "source": [
    "# plot optimizer/minimizer best fit\n",
    "plot_data_model(reddened_star, weights, modinfo, params_best, pnames_fit, starname, velocity,\n",
    "                prange=[1e-14, 1e-10], fullparamsfunc=fullparamsfunc, fit_range=fit_range)"
   ]
  },
  {
   "cell_type": "markdown",
   "id": "606f144a",
   "metadata": {},
   "source": [
    "###### Run emcee MCMC sampler to define uncertainties (bonus section)"
   ]
  },
  {
   "cell_type": "code",
   "execution_count": 14,
   "id": "de6d727a",
   "metadata": {},
   "outputs": [
    {
     "name": "stderr",
     "output_type": "stream",
     "text": [
      " 49%|██████████████████████████████                               | 2467/5000 [43:48<44:58,  1.07s/it]\n"
     ]
    },
    {
     "ename": "ValueError",
     "evalue": "Probability function returned NaN",
     "output_type": "error",
     "traceback": [
      "\u001b[0;31m---------------------------------------------------------------------------\u001b[0m",
      "\u001b[0;31mValueError\u001b[0m                                Traceback (most recent call last)",
      "Input \u001b[0;32mIn [14]\u001b[0m, in \u001b[0;36m<cell line: 19>\u001b[0;34m()\u001b[0m\n\u001b[1;32m     14\u001b[0m sampler \u001b[38;5;241m=\u001b[39m emcee\u001b[38;5;241m.\u001b[39mEnsembleSampler(\n\u001b[1;32m     15\u001b[0m     nwalkers, ndim, lnprob_mcmc, args\u001b[38;5;241m=\u001b[39m(reddened_star, modinfo, fitinfo)\n\u001b[1;32m     16\u001b[0m )\n\u001b[1;32m     18\u001b[0m \u001b[38;5;66;03m# do the full sampling\u001b[39;00m\n\u001b[0;32m---> 19\u001b[0m pos, prob, state \u001b[38;5;241m=\u001b[39m \u001b[43msampler\u001b[49m\u001b[38;5;241;43m.\u001b[39;49m\u001b[43mrun_mcmc\u001b[49m\u001b[43m(\u001b[49m\u001b[43mp\u001b[49m\u001b[43m,\u001b[49m\u001b[43m \u001b[49m\u001b[43mnsteps\u001b[49m\u001b[43m,\u001b[49m\u001b[43m \u001b[49m\u001b[43mprogress\u001b[49m\u001b[38;5;241;43m=\u001b[39;49m\u001b[38;5;28;43;01mTrue\u001b[39;49;00m\u001b[43m)\u001b[49m\n",
      "File \u001b[0;32m~/Bin/miniconda3/lib/python3.9/site-packages/emcee/ensemble.py:443\u001b[0m, in \u001b[0;36mEnsembleSampler.run_mcmc\u001b[0;34m(self, initial_state, nsteps, **kwargs)\u001b[0m\n\u001b[1;32m    440\u001b[0m     initial_state \u001b[38;5;241m=\u001b[39m \u001b[38;5;28mself\u001b[39m\u001b[38;5;241m.\u001b[39m_previous_state\n\u001b[1;32m    442\u001b[0m results \u001b[38;5;241m=\u001b[39m \u001b[38;5;28;01mNone\u001b[39;00m\n\u001b[0;32m--> 443\u001b[0m \u001b[38;5;28;01mfor\u001b[39;00m results \u001b[38;5;129;01min\u001b[39;00m \u001b[38;5;28mself\u001b[39m\u001b[38;5;241m.\u001b[39msample(initial_state, iterations\u001b[38;5;241m=\u001b[39mnsteps, \u001b[38;5;241m*\u001b[39m\u001b[38;5;241m*\u001b[39mkwargs):\n\u001b[1;32m    444\u001b[0m     \u001b[38;5;28;01mpass\u001b[39;00m\n\u001b[1;32m    446\u001b[0m \u001b[38;5;66;03m# Store so that the ``initial_state=None`` case will work\u001b[39;00m\n",
      "File \u001b[0;32m~/Bin/miniconda3/lib/python3.9/site-packages/emcee/ensemble.py:402\u001b[0m, in \u001b[0;36mEnsembleSampler.sample\u001b[0;34m(self, initial_state, log_prob0, rstate0, blobs0, iterations, tune, skip_initial_state_check, thin_by, thin, store, progress, progress_kwargs)\u001b[0m\n\u001b[1;32m    399\u001b[0m move \u001b[38;5;241m=\u001b[39m \u001b[38;5;28mself\u001b[39m\u001b[38;5;241m.\u001b[39m_random\u001b[38;5;241m.\u001b[39mchoice(\u001b[38;5;28mself\u001b[39m\u001b[38;5;241m.\u001b[39m_moves, p\u001b[38;5;241m=\u001b[39m\u001b[38;5;28mself\u001b[39m\u001b[38;5;241m.\u001b[39m_weights)\n\u001b[1;32m    401\u001b[0m \u001b[38;5;66;03m# Propose\u001b[39;00m\n\u001b[0;32m--> 402\u001b[0m state, accepted \u001b[38;5;241m=\u001b[39m \u001b[43mmove\u001b[49m\u001b[38;5;241;43m.\u001b[39;49m\u001b[43mpropose\u001b[49m\u001b[43m(\u001b[49m\u001b[43mmodel\u001b[49m\u001b[43m,\u001b[49m\u001b[43m \u001b[49m\u001b[43mstate\u001b[49m\u001b[43m)\u001b[49m\n\u001b[1;32m    403\u001b[0m state\u001b[38;5;241m.\u001b[39mrandom_state \u001b[38;5;241m=\u001b[39m \u001b[38;5;28mself\u001b[39m\u001b[38;5;241m.\u001b[39mrandom_state\n\u001b[1;32m    405\u001b[0m \u001b[38;5;28;01mif\u001b[39;00m tune:\n",
      "File \u001b[0;32m~/Bin/miniconda3/lib/python3.9/site-packages/emcee/moves/red_blue.py:93\u001b[0m, in \u001b[0;36mRedBlueMove.propose\u001b[0;34m(self, model, state)\u001b[0m\n\u001b[1;32m     90\u001b[0m q, factors \u001b[38;5;241m=\u001b[39m \u001b[38;5;28mself\u001b[39m\u001b[38;5;241m.\u001b[39mget_proposal(s, c, model\u001b[38;5;241m.\u001b[39mrandom)\n\u001b[1;32m     92\u001b[0m \u001b[38;5;66;03m# Compute the lnprobs of the proposed position.\u001b[39;00m\n\u001b[0;32m---> 93\u001b[0m new_log_probs, new_blobs \u001b[38;5;241m=\u001b[39m \u001b[43mmodel\u001b[49m\u001b[38;5;241;43m.\u001b[39;49m\u001b[43mcompute_log_prob_fn\u001b[49m\u001b[43m(\u001b[49m\u001b[43mq\u001b[49m\u001b[43m)\u001b[49m\n\u001b[1;32m     95\u001b[0m \u001b[38;5;66;03m# Loop over the walkers and update them accordingly.\u001b[39;00m\n\u001b[1;32m     96\u001b[0m \u001b[38;5;28;01mfor\u001b[39;00m i, (j, f, nlp) \u001b[38;5;129;01min\u001b[39;00m \u001b[38;5;28menumerate\u001b[39m(\n\u001b[1;32m     97\u001b[0m     \u001b[38;5;28mzip\u001b[39m(all_inds[S1], factors, new_log_probs)\n\u001b[1;32m     98\u001b[0m ):\n",
      "File \u001b[0;32m~/Bin/miniconda3/lib/python3.9/site-packages/emcee/ensemble.py:535\u001b[0m, in \u001b[0;36mEnsembleSampler.compute_log_prob\u001b[0;34m(self, coords)\u001b[0m\n\u001b[1;32m    533\u001b[0m \u001b[38;5;66;03m# Check for log_prob returning NaN.\u001b[39;00m\n\u001b[1;32m    534\u001b[0m \u001b[38;5;28;01mif\u001b[39;00m np\u001b[38;5;241m.\u001b[39many(np\u001b[38;5;241m.\u001b[39misnan(log_prob)):\n\u001b[0;32m--> 535\u001b[0m     \u001b[38;5;28;01mraise\u001b[39;00m \u001b[38;5;167;01mValueError\u001b[39;00m(\u001b[38;5;124m\"\u001b[39m\u001b[38;5;124mProbability function returned NaN\u001b[39m\u001b[38;5;124m\"\u001b[39m)\n\u001b[1;32m    537\u001b[0m \u001b[38;5;28;01mreturn\u001b[39;00m log_prob, blob\n",
      "\u001b[0;31mValueError\u001b[0m: Probability function returned NaN"
     ]
    }
   ],
   "source": [
    "p0 = params_best\n",
    "ndim = len(p0)\n",
    "\n",
    "def lnprob_mcmc(params, *args):\n",
    "    full_params = fullparamsfunc(params)\n",
    "    return fitinfo.lnprob(full_params, *args, fit_range=fit_range)\n",
    "\n",
    "nwalkers = 2 * ndim\n",
    "\n",
    "# setting up the walkers to start \"near\" the inital guess\n",
    "p = [p0 * (1 + 0.01 * np.random.normal(0, 1.0, ndim)) for k in range(nwalkers)]\n",
    "\n",
    "# setup the sampler\n",
    "sampler = emcee.EnsembleSampler(\n",
    "    nwalkers, ndim, lnprob_mcmc, args=(reddened_star, modinfo, fitinfo)\n",
    ")\n",
    "\n",
    "# do the full sampling\n",
    "pos, prob, state = sampler.run_mcmc(p, nsteps, progress=True)"
   ]
  },
  {
   "cell_type": "code",
   "execution_count": null,
   "id": "66c3e5a8",
   "metadata": {},
   "outputs": [],
   "source": [
    "# create the samples variable for later use\n",
    "flat_samples = sampler.get_chain(discard=int(0.1*nsteps), flat=True)\n",
    "\n",
    "# get the best fit values\n",
    "params_best = get_best_fit_params(sampler)\n",
    "\n",
    "def get_percentile_params(samples):\n",
    "    \"\"\"\n",
    "    Determine the 50p plus/minus 33p vlaues\n",
    "    \"\"\"\n",
    "\n",
    "    per_params = map(\n",
    "        lambda v: (v[1], v[2] - v[1], v[1] - v[0]),\n",
    "        zip(*np.percentile(samples, [16, 50, 84], axis=0)),\n",
    "    )\n",
    "\n",
    "    return per_params\n",
    "\n",
    "# get the 16, 50, and 84 percentiles\n",
    "params_per = get_percentile_params(flat_samples)\n",
    "\n",
    "# save the best fit and p50 +/- uncs values to a file\n",
    "# save as a single row table to provide a uniform format\n",
    "#f = open(out_basename + \"_fit_params.dat\", \"w\")\n",
    "#f.write(\"# best fit, p50, +unc, -unc\\n\")\n",
    "n_params = len(params_best)\n",
    "params_p50 = np.zeros(n_params)\n",
    "params_unc = np.zeros(n_params)\n",
    "print(\"best p50 -munc +unc # paramname\")\n",
    "for k, val in enumerate(params_per):\n",
    "    params_p50[k] = val[0]\n",
    "    params_unc[k] = 0.5 * (val[1] + val[2])\n",
    "    print(f\"{params_best[k]:.3f} {val[0]:.3f} {val[1]:.3f} {val[2]:.3f} # {pnames_fit[k]}\")"
   ]
  },
  {
   "cell_type": "code",
   "execution_count": null,
   "id": "ae17cbd0",
   "metadata": {},
   "outputs": [],
   "source": [
    "plot_data_model(reddened_star, weights, modinfo, params_best, pnames_fit, starname, velocity, \n",
    "                params_unc=params_unc, prange=[1e-14, 1e-10], fullparamsfunc=fullparamsfunc, fit_range=fit_range)"
   ]
  },
  {
   "cell_type": "code",
   "execution_count": null,
   "id": "0aca7182",
   "metadata": {},
   "outputs": [],
   "source": [
    "nparam = len(params_best)\n",
    "fig, axes = plt.subplots(nparam, figsize=(10, 15), sharex=True)\n",
    "samples = sampler.get_chain()\n",
    "labels = pnames_fit\n",
    "for i in range(ndim):\n",
    "    ax = axes[i]\n",
    "    ax.plot(samples[:, :, i], \"k\", alpha=0.3)\n",
    "    ax.set_xlim(0, len(samples))\n",
    "    ax.set_ylabel(labels[i])\n",
    "    ax.yaxis.set_label_coords(-0.1, 0.5)\n",
    "\n",
    "axes[-1].set_xlabel(\"step number\");"
   ]
  },
  {
   "cell_type": "code",
   "execution_count": null,
   "id": "353fe47f",
   "metadata": {},
   "outputs": [],
   "source": [
    "import corner\n",
    "\n",
    "fig = corner.corner(flat_samples, labels=labels)"
   ]
  },
  {
   "cell_type": "markdown",
   "id": "31a37787",
   "metadata": {},
   "source": [
    "## Compute extinction and plot\n",
    "\n",
    "Calculate the E(B-V) = E(44 - 55), A(V), and R(V) from the computed extinction curve"
   ]
  },
  {
   "cell_type": "code",
   "execution_count": null,
   "id": "9ddc90ce",
   "metadata": {},
   "outputs": [],
   "source": [
    "extdata = comp_ext(modinfo, fullparamsfunc(params_best), velocity, reddened_star, relband, starname)\n",
    "plot_ext(extdata, starname)"
   ]
  },
  {
   "cell_type": "code",
   "execution_count": null,
   "id": "f31fd4d9",
   "metadata": {},
   "outputs": [],
   "source": []
  }
 ],
 "metadata": {
  "kernelspec": {
   "display_name": "Python 3 (ipykernel)",
   "language": "python",
   "name": "python3"
  },
  "language_info": {
   "codemirror_mode": {
    "name": "ipython",
    "version": 3
   },
   "file_extension": ".py",
   "mimetype": "text/x-python",
   "name": "python",
   "nbconvert_exporter": "python",
   "pygments_lexer": "ipython3",
   "version": "3.9.7"
  }
 },
 "nbformat": 4,
 "nbformat_minor": 5
}
