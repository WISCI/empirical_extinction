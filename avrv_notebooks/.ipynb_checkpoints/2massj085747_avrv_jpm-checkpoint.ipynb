{
 "cells": [
  {
   "cell_type": "code",
   "execution_count": 1,
   "id": "42b3cd42",
   "metadata": {},
   "outputs": [
    {
     "ename": "SyntaxError",
     "evalue": "unterminated string literal (detected at line 219) (helpers.py, line 219)",
     "output_type": "error",
     "traceback": [
      "Traceback \u001b[0;36m(most recent call last)\u001b[0m:\n",
      "\u001b[0m  File \u001b[1;32m~/anaconda3/lib/python3.10/site-packages/IPython/core/interactiveshell.py:3526\u001b[0m in \u001b[1;35mrun_code\u001b[0m\n    exec(code_obj, self.user_global_ns, self.user_ns)\u001b[0m\n",
      "\u001b[0;36m  Cell \u001b[0;32mIn[1], line 19\u001b[0;36m\n\u001b[0;31m    from helpers import (plot_data_model, plot_data_model, comp_ext, plot_ext,\u001b[0;36m\n",
      "\u001b[0;36m  File \u001b[0;32m~/Documents/GitHub/empirical_extinction/avrv_notebooks/helpers.py:219\u001b[0;36m\u001b[0m\n\u001b[0;31m    fig.savefig(starname+'+figname+'.png',dpi=200)\u001b[0m\n\u001b[0m                                        ^\u001b[0m\n\u001b[0;31mSyntaxError\u001b[0m\u001b[0;31m:\u001b[0m unterminated string literal (detected at line 219)\n"
     ]
    }
   ],
   "source": [
    "import glob\n",
    "\n",
    "import numpy as np\n",
    "import scipy.optimize as op\n",
    "\n",
    "import matplotlib.pyplot as plt\n",
    "\n",
    "import astropy.units as u\n",
    "from astropy.io import fits\n",
    "\n",
    "import emcee\n",
    "\n",
    "from measure_extinction.stardata import StarData\n",
    "from measure_extinction.modeldata import ModelData\n",
    "from measure_extinction.utils.fit_model import FitInfo\n",
    "\n",
    "from measure_extinction.utils.fit_model import get_best_fit_params, get_percentile_params\n",
    "\n",
    "from helpers import (plot_data_model, plot_data_model, comp_ext, plot_ext, \n",
    "                     get_fit_params, get_full_params, get_fit_params_g23only, get_full_params_g23only)"
   ]
  },
  {
   "cell_type": "markdown",
   "id": "3caa695b",
   "metadata": {},
   "source": [
    "## Info about the specific star and data to fit"
   ]
  },
  {
   "cell_type": "markdown",
   "id": "8f70bc32",
   "metadata": {},
   "source": [
    "Specify the location of the model and observed data"
   ]
  },
  {
   "cell_type": "code",
   "execution_count": null,
   "id": "209117e4",
   "metadata": {},
   "outputs": [],
   "source": [
    "data_file_path = \"/Users/jonty/Documents/GitHub/empirical_extinction/Targets/\"\n",
    "model_file_path = \"/Users/jonty/Documents/GitHub/empirical_extinction/Models/\""
   ]
  },
  {
   "cell_type": "markdown",
   "id": "57beb89f",
   "metadata": {},
   "source": [
    "Define star specific parameters"
   ]
  },
  {
   "cell_type": "code",
   "execution_count": null,
   "id": "4b7882b1",
   "metadata": {},
   "outputs": [],
   "source": [
    "starname = \"2massj085747\"\n",
    "fstarname = f\"{starname}.dat\"\n",
    "velocity = 0.0   # assumption\n",
    "relband = 0.55 * u.micron  # needed for dust extinction\n",
    "\n",
    "# sptype and Teff, logg, from from Wei, C et al. (master thesis)\n",
    "sptype = \"B2IV\"\n",
    "teff = 22200\n",
    "teff_unc = 2000.0\n",
    "logt = np.log10(teff)\n",
    "logt_unc = 0.5 * (np.log10(teff + teff_unc) - np.log10(teff - teff_unc))\n",
    "print(logt, logt_unc)\n",
    "logg = 3.7\n",
    "logg_unc = 0.1\n",
    "\n",
    "# parameter names\n",
    "pnames = [\"logT\",\"logg\", \"logZ\", \"Av\",\"Rv\",\"C2\",\"C3\",\"C4\",\"x0\",\"gamma\",\"HI_gal\",\"HI_mw\",\"logf\"]\n",
    "# logZ and HI_mw not fit as sources in MW so HI_gal = HI_MW\n",
    "pnames_fit = [\"logT\",\"logg\", \"Av\",\"Rv\",\"logf\"]\n",
    "fitparamsfunc = get_fit_params_g23only\n",
    "fullparamsfunc = get_full_params_g23only\n",
    "fit_range = \"g23\"\n",
    "\n",
    "# initial starting position\n",
    "params = [logt, logg, 0.0, 5.0, 3.1, 0.7, 3.23, 0.41, 4.59, 0.95, 20.5, 17.0, -1.0]\n",
    "\n",
    "# add Gaussian priors based on prior knowledge\n",
    "# ppriors = None\n",
    "ppriors = {}\n",
    "ppriors[\"logT\"] = (logt, logt_unc)\n",
    "ppriors[\"logg\"] = (logg, logg_unc)"
   ]
  },
  {
   "cell_type": "markdown",
   "id": "78b14321",
   "metadata": {},
   "source": [
    "Read in the star data"
   ]
  },
  {
   "cell_type": "code",
   "execution_count": null,
   "id": "9fee49ab",
   "metadata": {},
   "outputs": [],
   "source": [
    "# get the observed reddened star data\n",
    "reddened_star = StarData(fstarname, path=f\"{data_file_path}\")\n",
    "band_names = reddened_star.data[\"BAND\"].get_band_names()\n",
    "for ckey in list(reddened_star.data.keys()):\n",
    "    if ckey not in [\"BAND\", \"STIS_Opt\"]:\n",
    "        del reddened_star.data[ckey]\n",
    "data_names = reddened_star.data.keys()\n",
    "print(data_names)\n",
    "print(band_names)"
   ]
  },
  {
   "cell_type": "markdown",
   "id": "fdcbc50f",
   "metadata": {},
   "source": [
    "Create the weight arrays based on the observed uncertainties and exclude regions that have known lines not fit by the models (ISM gas, etc.)."
   ]
  },
  {
   "cell_type": "code",
   "execution_count": null,
   "id": "2c83f31c",
   "metadata": {},
   "outputs": [],
   "source": [
    "# cropping info for weights\n",
    "#  bad regions are defined as those were we know the models do not work\n",
    "#  or the data is bad\n",
    "ex_regions = [\n",
    "    [8.23 - 0.1, 8.23 + 0.1],  # geocoronal line\n",
    "    [8.7, 10.0],  # bad data from STIS\n",
    "    [3.55, 3.6],\n",
    "    [3.80, 3.90],\n",
    "    [4.15, 4.3],\n",
    "    [6.4, 6.6],\n",
    "    [7.1, 7.3],\n",
    "    [7.45, 7.55],\n",
    "    [7.65, 7.75],\n",
    "    [7.9, 7.95],\n",
    "    [8.05, 8.1],\n",
    "] / u.micron\n",
    "\n",
    "weights = {}\n",
    "for cspec in data_names:\n",
    "    weights[cspec] = np.full(len(reddened_star.data[cspec].fluxes), 0.0)\n",
    "    gvals = reddened_star.data[cspec].npts > 0\n",
    "\n",
    "    weights[cspec][gvals] = 1.0 / reddened_star.data[cspec].uncs[gvals].value\n",
    "\n",
    "    x = 1.0 / reddened_star.data[cspec].waves\n",
    "    for cexreg in ex_regions:\n",
    "        weights[cspec][np.logical_and(x >= cexreg[0], x <= cexreg[1])] = 0.0"
   ]
  },
  {
   "cell_type": "markdown",
   "id": "5d47d4d3",
   "metadata": {},
   "source": [
    "Get the model data"
   ]
  },
  {
   "cell_type": "code",
   "execution_count": null,
   "id": "70cdc247",
   "metadata": {},
   "outputs": [],
   "source": [
    "tlusty_models_fullpath = glob.glob(f\"{model_file_path}/tlusty_*v10.dat\")\n",
    "tlusty_models = [\n",
    "    tfile[tfile.rfind(\"/\") + 1 : len(tfile)] for tfile in tlusty_models_fullpath\n",
    "]\n",
    "\n",
    "# get the models with just the reddened star band data and spectra\n",
    "\n",
    "#print(hdul[1].header)\n",
    "#print(hdul[1].data)\n",
    "#for i in range(len(hdul[1].data)):\n",
    "#    print(hdul[1].data[i])\n",
    "\n",
    "modinfo = ModelData(\n",
    "    tlusty_models,\n",
    "    path=f\"{model_file_path}\",\n",
    "    band_names=band_names,\n",
    "    spectra_names=data_names,\n",
    ")"
   ]
  },
  {
   "cell_type": "markdown",
   "id": "f975ea60",
   "metadata": {},
   "source": [
    "Setup the fit parameters"
   ]
  },
  {
   "cell_type": "code",
   "execution_count": null,
   "id": "d8d770a4",
   "metadata": {},
   "outputs": [],
   "source": [
    "# not all these parameters are being fit\n",
    "#   not fitting for met, log(HI) MW foreground\n",
    "plimits = [\n",
    "        [modinfo.temps_min, modinfo.temps_max],  # log(Teff)\n",
    "        [modinfo.gravs_min, modinfo.gravs_max],  # log(g)\n",
    "        [0.0, 0.0], # met\n",
    "        [0.0, 10.0],   # Av\n",
    "        [2.31, 5.59],   # Rv\n",
    "        [-0.1, 5.0],  # C2\n",
    "        [-1.0, 6.0],   # C3\n",
    "        [-0.5, 1.5],   # C4\n",
    "        [4.5, 4.9],   # xo\n",
    "        [0.6, 1.5],   # gamma\n",
    "        [18.0, 24.0], # log(HI) internal to galaxy\n",
    "        [17.0, 22.0], # log(HI) MW foreground\n",
    "        [-9.0,9.0], #logf nuisance factor\n",
    "    ]"
   ]
  },
  {
   "cell_type": "markdown",
   "id": "6bae6f15",
   "metadata": {},
   "source": [
    "Package the fit info needed.  FitInfo class defines the likelihood functions as well."
   ]
  },
  {
   "cell_type": "code",
   "execution_count": null,
   "id": "f6aa29d7",
   "metadata": {},
   "outputs": [],
   "source": [
    "fitinfo = FitInfo(\n",
    "    pnames,\n",
    "    plimits,\n",
    "    weights,\n",
    "    parameter_priors=ppriors,\n",
    "    stellar_velocity=velocity,\n",
    ")"
   ]
  },
  {
   "cell_type": "code",
   "execution_count": null,
   "id": "5ff88bed",
   "metadata": {},
   "outputs": [],
   "source": [
    "# check that the initial starting position returns a valid value of lnprob and is within the parameter bounds\n",
    "fitinfo.check_param_limits(params)\n",
    "print(fitinfo.lnlike(params, reddened_star, modinfo))\n",
    "print(fitinfo.lnprior(params))\n",
    "print(fitinfo.lnprob(params, reddened_star, modinfo, fitinfo))"
   ]
  },
  {
   "cell_type": "markdown",
   "id": "cc3b9848",
   "metadata": {},
   "source": [
    "## Do the fitting to find the best fit (using a minimizer)"
   ]
  },
  {
   "cell_type": "code",
   "execution_count": null,
   "id": "7932407d",
   "metadata": {},
   "outputs": [],
   "source": [
    "# simple function to turn the log(likelihood) into the chisqr\n",
    "#  requied as op.minimize function searchs for the minimum chisqr (not max likelihood like MCMC algorithms)\n",
    "def nll(params, *args):\n",
    "    full_params = fullparamsfunc(params)\n",
    "    return -fitinfo.lnprob(full_params, *args, fit_range=fit_range)\n",
    "\n",
    "init_fit_params = fitparamsfunc(params)\n",
    "\n",
    "fit_params = get_fit_params(params)\n",
    "\n",
    "full_params = fullparamsfunc(params)\n",
    "\n",
    "# run the fit\n",
    "result = op.minimize(\n",
    "    nll, init_fit_params, method=\"Nelder-Mead\", options={\"maxiter\": 1000}, \n",
    "    args=(reddened_star, modinfo, fitinfo)\n",
    ")\n",
    "\n",
    "# check the fit output\n",
    "print(result[\"message\"])"
   ]
  },
  {
   "cell_type": "code",
   "execution_count": null,
   "id": "e510ce95",
   "metadata": {},
   "outputs": [],
   "source": [
    "# print results\n",
    "params_best = result[\"x\"]\n",
    "\n",
    "# print the best fit\n",
    "for k, val in enumerate(params_best):\n",
    "    print(f\"{val} # {pnames_fit[k]}\")"
   ]
  },
  {
   "cell_type": "markdown",
   "id": "72e47e0a",
   "metadata": {},
   "source": [
    "Plot the spectra with the best fit model"
   ]
  },
  {
   "cell_type": "code",
   "execution_count": null,
   "id": "16d1ca7e",
   "metadata": {},
   "outputs": [],
   "source": [
    "# plot optimizer/minimizer best fit\n",
    "plot_data_model(reddened_star, weights, modinfo, params_best, pnames_fit, starname, velocity,\n",
    "                prange=[1e-15, 1e-11], fullparamsfunc=fullparamsfunc, fit_range=fit_range,savefig=True,figname='optimizer_fit')"
   ]
  },
  {
   "cell_type": "markdown",
   "id": "606f144a",
   "metadata": {},
   "source": [
    "###### Run emcee MCMC sampler to define uncertainties (bonus section)"
   ]
  },
  {
   "cell_type": "code",
   "execution_count": null,
   "id": "de6d727a",
   "metadata": {},
   "outputs": [],
   "source": [
    "p0 = params_best\n",
    "ndim = len(p0)\n",
    "\n",
    "def lnprob_mcmc(params, *args):\n",
    "    full_params = fullparamsfunc(params)\n",
    "    return fitinfo.lnprob(full_params, *args, fit_range=fit_range)\n",
    "\n",
    "nwalkers = 10 * ndim\n",
    "nsteps   = 5000\n",
    "print(ndim,nwalkers,nsteps)\n",
    "\n",
    "# setting up the walkers to start \"near\" the inital guess\n",
    "p = [p0 * (1 + 0.01 * np.random.normal(0, 1.0, ndim)) for k in range(nwalkers)]\n",
    "\n",
    "# setup the sampler\n",
    "from pathos.multiprocessing import Pool\n",
    "\n",
    "sampler = emcee.EnsembleSampler(\n",
    "    nwalkers, ndim, lnprob_mcmc,pool=Pool(6), args=(reddened_star, modinfo, fitinfo)\n",
    ")\n",
    "\n",
    "# do the full sampling\n",
    "pos, prob, state = sampler.run_mcmc(p, nsteps, progress=True)"
   ]
  },
  {
   "cell_type": "code",
   "execution_count": null,
   "id": "66c3e5a8",
   "metadata": {},
   "outputs": [],
   "source": [
    "# create the samples variable for later use\n",
    "flat_samples = sampler.get_chain(discard=int(0.8*nsteps), flat=True)\n",
    "\n",
    "# get the best fit values\n",
    "params_best = get_best_fit_params(sampler)\n",
    "\n",
    "def get_percentile_params(samples):\n",
    "    \"\"\"\n",
    "    Determine the 50p plus/minus 33p vlaues\n",
    "    \"\"\"\n",
    "\n",
    "    per_params = map(\n",
    "        lambda v: (v[1], v[2] - v[1], v[1] - v[0]),\n",
    "        zip(*np.percentile(samples, [16, 50, 84], axis=0)),\n",
    "    )\n",
    "\n",
    "    return per_params\n",
    "\n",
    "#save the chain as a pickle object\n",
    "import dill\n",
    "\n",
    "dill.dump(sampler, open(starname+'_sampler.pkl',\"wb\"))\n",
    "\n",
    "# get the 16, 50, and 84 percentiles\n",
    "params_per = get_percentile_params(flat_samples)\n",
    "\n",
    "# save the best fit and p50 +/- uncs values to a file\n",
    "# save as a single row table to provide a uniform format\n",
    "#f = open(out_basename + \"_fit_params.dat\", \"w\")\n",
    "#f.write(\"# best fit, p50, +unc, -unc\\n\")\n",
    "n_params = len(params_best)\n",
    "params_p50 = np.zeros(n_params)\n",
    "params_unc = np.zeros(n_params)\n",
    "print(\"best p50 -munc +unc # paramname\")\n",
    "for k, val in enumerate(params_per):\n",
    "    params_p50[k] = val[0]\n",
    "    params_unc[k] = 0.5 * (val[1] + val[2])\n",
    "    print(f\"{params_best[k]:.3f} {val[0]:.3f} {val[1]:.3f} {val[2]:.3f} # {pnames_fit[k]}\")"
   ]
  },
  {
   "cell_type": "code",
   "execution_count": null,
   "id": "ae17cbd0",
   "metadata": {},
   "outputs": [],
   "source": [
    "plot_data_model(reddened_star, weights, modinfo, params_best, pnames_fit, starname, velocity, \n",
    "                params_unc=params_unc, prange=[1e-15, 1e-11], fullparamsfunc=fullparamsfunc, fit_range=fit_range,savefig=True,figname='emcee_fit')"
   ]
  },
  {
   "cell_type": "code",
   "execution_count": null,
   "id": "0aca7182",
   "metadata": {},
   "outputs": [],
   "source": [
    "nparam = len(params_best)\n",
    "fig, axes = plt.subplots(nparam, figsize=(10, 15), sharex=True)\n",
    "samples = sampler.get_chain()\n",
    "tauto = sampler.get_autocorr_time(quiet=True)\n",
    "\n",
    "print(tauto)\n",
    "\n",
    "labels = pnames_fit\n",
    "for i in range(ndim):\n",
    "    ax = axes[i]\n",
    "    ax.plot(samples[:, :, i], \"k\", alpha=0.3)\n",
    "    ax.set_xlim(0, len(samples))\n",
    "    ax.set_ylabel(labels[i])\n",
    "    ax.yaxis.set_label_coords(-0.1, 0.5)\n",
    "\n",
    "axes[-1].set_xlabel(\"step number\");\n",
    "\n",
    "fig.savefig(starname+'_plot_walkers.png',dpi=200)"
   ]
  },
  {
   "cell_type": "code",
   "execution_count": null,
   "id": "353fe47f",
   "metadata": {},
   "outputs": [],
   "source": [
    "import corner\n",
    "\n",
    "fig = corner.corner(flat_samples, labels=labels)\n",
    "\n",
    "fig.savefig(starname+'_plot_corner.png',dpi=200)"
   ]
  },
  {
   "cell_type": "markdown",
   "id": "31a37787",
   "metadata": {},
   "source": [
    "## Compute extinction and plot\n",
    "\n",
    "Calculate the E(B-V) = E(44 - 55), A(V), and R(V) from the computed extinction curve"
   ]
  },
  {
   "cell_type": "code",
   "execution_count": null,
   "id": "9ddc90ce",
   "metadata": {},
   "outputs": [],
   "source": [
    "extdata = comp_ext(modinfo, fullparamsfunc(params_best), velocity, reddened_star, relband, starname)\n",
    "plot_ext(extdata, starname,savefig=True,figname='extinction')"
   ]
  },
  {
   "cell_type": "code",
   "execution_count": null,
   "id": "e9296e4a-e39b-4295-b21d-0dad0027797f",
   "metadata": {},
   "outputs": [],
   "source": []
  }
 ],
 "metadata": {
  "kernelspec": {
   "display_name": "Python 3 (ipykernel)",
   "language": "python",
   "name": "python3"
  },
  "language_info": {
   "codemirror_mode": {
    "name": "ipython",
    "version": 3
   },
   "file_extension": ".py",
   "mimetype": "text/x-python",
   "name": "python",
   "nbconvert_exporter": "python",
   "pygments_lexer": "ipython3",
   "version": "3.10.13"
  }
 },
 "nbformat": 4,
 "nbformat_minor": 5
}
